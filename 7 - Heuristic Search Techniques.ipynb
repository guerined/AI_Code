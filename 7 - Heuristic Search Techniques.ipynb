{
 "cells": [
  {
   "cell_type": "markdown",
   "metadata": {},
   "source": [
    "# Heuristic Search Techniques\n",
    "\n",
    "Heuristic search techniques are used to search through the solution space to come up with answers. The search is conducted using heuristics that guide the search algorithm. This heuristic allows the algorithm to speed up the process, which would otherwise take a really long time to arrive at the solution"
   ]
  },
  {
   "cell_type": "markdown",
   "metadata": {},
   "source": [
    "## What is heuristic search?\n",
    "\n",
    "Searching and organizing data is an important topic within Artificial Intelligence. There are many problems that require searching for an answer within the solution domain. There are many possible solutions to a given problem and we do not know which ones are correct. By efficiently organizing the data, we can search for solutions quickly and effectively."
   ]
  },
  {
   "cell_type": "markdown",
   "metadata": {},
   "source": [
    "More often, there are so many possible options to solve a given problem that no algorithm can be developed to find a right solution. Also, going through every single solution is not possible because it is prohibitively expensive. In such cases, we rely on a rule of thumb that helps narrow down the search by eliminating the options that are obviously wrong. This rule of thumb is called a heuristic. The method of using heuristics to guide our search is called heuristic search."
   ]
  },
  {
   "cell_type": "markdown",
   "metadata": {},
   "source": [
    "Heuristic techniques are very hndy because they help up speed up the process. Even if the heuristic is not able to completely eliminate some options, it will help us to order those options so that we are more likely to get to the better solutions first."
   ]
  },
  {
   "cell_type": "markdown",
   "metadata": {},
   "source": [
    "## Uninformed versus Informed search\n",
    "\n",
    "Search techniques like Depth First Search (DFS), Breadth First Search (BFS), and Uniform Cost Search (UCS) are search techniques that are commonly used on graphs to get to the solution. These are examples of uninformed search. they do not use any prior information or rules to eliminate some paths. They check all the plausible paths and pick the optimal one."
   ]
  },
  {
   "cell_type": "markdown",
   "metadata": {},
   "source": [
    "Heuristic search, on the other hand, is called Informed search because it uses prior information or rules to eliminate unnecessary paths. Uninformed search techniques do not take the goal into account. these techniques don't really know where they are trying to go unless they just stumble upon the goal in the process."
   ]
  },
  {
   "cell_type": "markdown",
   "metadata": {},
   "source": [
    "In the graph problem, we cn use heuristics to guide the search. For example, at each node, we can define a heuristic function that returns a score that represents the estimate of the cost of the path from the current node to the goal. By defining this heuristic function, we are informing the search technique about the right direction to reach the goal. This will allow the algorithm to identify which neighbor will lead to the goal."
   ]
  },
  {
   "cell_type": "markdown",
   "metadata": {},
   "source": [
    "Heuristic search might not always find the most optimal solution. This is because we are not exploring every single possibility and we are relying on a heuristic. But it is guaranted to find a good solution in a reasonable time, which is what we expect from a practical solution. In real-world scenarios, we need solutions that are fast and effective. Heuristic searches provide an efficient solution by arriving at a reasonable solution quickly. They are used in cases where the problems cannot be solved in any other way or would take a really long time to solve."
   ]
  },
  {
   "cell_type": "markdown",
   "metadata": {},
   "source": [
    "## Constraint Satisfaction Problems\n",
    "\n",
    "There are many problems that have to be solved under constraints. These constraints are basically conditions that cannot be violated during the process of solving the problem. These problems are referred to as Constraints Satisfaction Problems (CSPs)."
   ]
  },
  {
   "cell_type": "markdown",
   "metadata": {},
   "source": [
    "CSPs are basically mathematical problems that are defined as a set of variables that must satisfy a number of constrains. When we arrive at the final solution, the states of the variables must obey all the constraints. This technique represents the entities involved in a given problem as a collection of a fixed number of constraints over variables. these variables need to be solved by constraint satisfaction methods."
   ]
  },
  {
   "cell_type": "markdown",
   "metadata": {},
   "source": [
    "These problems require a combination of heuristics and other search tehcniques to be solved in a reasonable amount of time. In this case, we will use constraint satisfaction techniques to solve problems on finite domains. A finite domain consists of a finite number of elements. Since we are dealing with finite domains, we can use search techniques to arrive at the solution"
   ]
  },
  {
   "cell_type": "markdown",
   "metadata": {},
   "source": [
    "## Local search techinques\n",
    "\n",
    "Local search is a particular way of solving a CSP. It keeps improving the values until all the constraints are satisfied. It iteratively keeps updating the variables until we arrive at the destination. These algorithms modify the vlue during each step of the process that gets us closer to the goal. In the solution spce, the updated value is closer to the goal than the previous value. Hence it is known as a local search."
   ]
  },
  {
   "cell_type": "markdown",
   "metadata": {},
   "source": [
    "Local search lgorithm is a heuristic search algorithm. These algorithms use a function that calculates the quality of each update. For example, it can count the number of constraints that are being violated by the current update or it can see hpw the update affects the distance to the goal. This is referred to as the cost if the assignment. The overall goal of local search is to find the minimal cost update at each step."
   ]
  },
  {
   "cell_type": "markdown",
   "metadata": {},
   "source": [
    "Hill climbing is a popular local search technique. It uses a heuristic function that measures the difference between the current state and the goal. When we start, it checks if the state is the final goal. If it is, then it stops. If not, then it selects an update and generates a new state. If it's closer to the goal than the current state, then it makes that the current update. If not, it ignores it and continues the process until it checks all possible updates. It basically climbs the hill until it reaches the summit."
   ]
  },
  {
   "cell_type": "markdown",
   "metadata": {},
   "source": [
    "## Simulatd Annealing\n",
    "\n",
    "Simulated Annealing is a type of local search as well as a stochastic search technique. Stochastic search techniques are used extensively in various field such as robotics, chemistry, manufaturing, medecine, economics, and so on. We can perform things like optimizing the design of a robot, determining the timing strategies for automated control in factories, and planning traffic. Stochastic algorithms are used to solve many earl-world problems."
   ]
  },
  {
   "cell_type": "markdown",
   "metadata": {},
   "source": [
    "Simulated Annealing is a variation of the hill climbing technique. One of the main problems of hill climbing is that it ends up climbing false foothills. This means that it gets stuck in local maxima. So it is better to check out the whole space before we make any climbing decisions. In order to achieve this, the whole space is initially explored to see what it is like. This helps us avoid getting stuck in a plateau or local maxim."
   ]
  },
  {
   "cell_type": "markdown",
   "metadata": {},
   "source": [
    "In Simulated Annealing, we reformulate the problem and solve it for minimization, as opposed to maximization. So, we are now descending into valleyx as opposed to climbing hills. We are pretty much doing the same thing, but in a different way. We use an objective function to guide the search. This objective function serves as our heuristic."
   ]
  },
  {
   "cell_type": "markdown",
   "metadata": {},
   "source": [
    "The rate at which we cool the system is called the annealing schedule. The rate of cooling is important because it directly impaccts the final result. In the real world case of metals, if the rate of cooling is too fast, it ends up settling for the local maximum."
   ]
  },
  {
   "cell_type": "markdown",
   "metadata": {},
   "source": [
    "If the rate of cooling is slow and controlled, we give the metal a chance to arrive at the globally optimum state. The chances of taking big steps quickly towards any particular hill are lower in this case. Since the rate of cooling is slow, it will take its time to choose the best state. We do something similar with data in our case."
   ]
  },
  {
   "cell_type": "markdown",
   "metadata": {},
   "source": [
    "We first evaluate the current state and see if it is global. It it is , then we stop. If not, then we set the state variable to the current state. We then define our annealing schedule that controls how quickly it descends into a valley. We compute the difference between the current state and the new state. If the mew state is not better, then we make it the current state with a certain predefined probability. We do this using a random generator and making a decision based on a threshold. If it is above the threshold, then we set the best state to this state. Based on this, we update the annealing schedule depending on the number of nodes. We keep doing this until we arrive at the goal."
   ]
  },
  {
   "cell_type": "markdown",
   "metadata": {},
   "source": [
    "## Constructing a string using greedy search\n",
    "\n",
    "Gready search is an algorithmic paradigm that makes the locally optimal choice at each stage in order to find the global optimum. But in many problems, greedy algorithms do not produce globally optimum solutions. An advantage of using greedy algorithms is that they produce an approximate solution in a reasonable time. The hope is that this approximate solution is reasonably close to the global optimal solution."
   ]
  },
  {
   "cell_type": "markdown",
   "metadata": {},
   "source": [
    "Greedy algorithms do not refine their solutions based on new information during the search. For example, let's say you are planning on a road trip and you want to take the bast route possible. If you use a greedy algorithm to plan the route, it would ask you to take routes that are shorter but might end up taking more time. It can also lead you to paths that may seem faster in the short term, but might lead to traffic jam later. This happens because greedy algorithms only think about the next step and not the globally optimal final solution."
   ]
  },
  {
   "cell_type": "markdown",
   "metadata": {},
   "source": [
    "We will recreate the input string based on the alphabets. We will ask the algorithm to search the solution space and construct a path to the solution."
   ]
  },
  {
   "cell_type": "code",
   "execution_count": 1,
   "metadata": {},
   "outputs": [],
   "source": [
    "import argparse\n",
    "import simpleai.search as ss"
   ]
  },
  {
   "cell_type": "markdown",
   "metadata": {},
   "source": [
    "Define a function to parse the input arguments:"
   ]
  },
  {
   "cell_type": "code",
   "execution_count": 2,
   "metadata": {},
   "outputs": [],
   "source": [
    "def build_arg_parser():\n",
    "    parser = argparse.ArgumentParser(description='Creates the input string \\ using the greedy algorithm')\n",
    "    parser.add_argument(\"--input-string\", dest=\"input_string\", required=True, help=\"Input string\")\n",
    "    parser.add_argument(\"--initial-state\", dest=\"initial_state\", required=False, default='', help=\"Starting point for the search\")\n",
    "    return parser"
   ]
  },
  {
   "cell_type": "markdown",
   "metadata": {},
   "source": [
    "Create a class that contains the methods needed to solve the problem. This class inherits the SearchProblem class avaialbe in the library. We just need to overide a couple of methods to suit our needs. The first method set_target is a custom method that we define to set the target string:"
   ]
  },
  {
   "cell_type": "code",
   "execution_count": 13,
   "metadata": {},
   "outputs": [],
   "source": [
    "class CustomProblem(ss.SearchProblem):\n",
    "    def set_target(self, target_string):\n",
    "        self.target_string = target_string\n",
    "    \n",
    "    #The actions is a method that comes with a SearchProblem and we need to override it. It's responsible for taking the right steps towards the goal. If the length of the current string is less than the length of the target string, it will return the list of possible alphabets to choose from. If not, it will return an empty string:\n",
    "    # Check the current state and take the right action\n",
    "    def actions(self, cur_state):\n",
    "        if len(cur_state) < len(self.target_string):\n",
    "            alphabets = 'abcdefghijklmnopqrstuvwxyz'\n",
    "            return list(alphabets + ' ' + alphabets.upper())\n",
    "        else:\n",
    "            return []\n",
    "    \n",
    "    #A method to compute the result by concatenating the current string and the action that needs to be taken. This method comes with a SearchProblem and we ae overriding it\n",
    "    # Concatenate state and action to get the result\n",
    "    def result(self, cur_state, action):\n",
    "        return cur_state + action\n",
    "    \n",
    "    #The method is_goal is a part of the SearchProblem and it's used to check if we have arrived at the goal\n",
    "    # Check if goal has been achieved\n",
    "    def is_goal (self, cur_state):\n",
    "        return cur_state == self.target_string\n",
    "    \n",
    "    #The method heuristic is also a part of the SearchProblem and we need to override it. We will define our own heuristic that will be used to solve the problem. We will calculate how far we are from the goal and use that as the heuristic to guide it towards the goal:\n",
    "    # Define the heuristic that will be used\n",
    "    def heuristic(self, cur_state):\n",
    "        # Compare current state string with arget string\n",
    "        dist = sum([1 if cur_state[i] != self.target_string[i] else 0 for i in range(len(cur_state))])\n",
    "        # Difference between the lengths\n",
    "        diff = len(self.target_string) - len(cur_state)\n",
    "    \n",
    "        return dist + diff"
   ]
  },
  {
   "cell_type": "markdown",
   "metadata": {},
   "source": [
    "e input arguments:"
   ]
  },
  {
   "cell_type": "code",
   "execution_count": 8,
   "metadata": {},
   "outputs": [],
   "source": [
    "# when used as a .py file\n",
    "# if __name__ == '__main__':\n",
    "#    args = build_arg_parser().parse_args()\n",
    "\n",
    "args = build_arg_parser().parse_args(['--input-string', 'Artifical Intelligence', '--initial-state', ''])"
   ]
  },
  {
   "cell_type": "markdown",
   "metadata": {},
   "source": [
    "Initialize the CustomeProblem object:"
   ]
  },
  {
   "cell_type": "code",
   "execution_count": 14,
   "metadata": {},
   "outputs": [],
   "source": [
    "problem = CustomProblem()"
   ]
  },
  {
   "cell_type": "markdown",
   "metadata": {},
   "source": [
    "Set the starting point as well as the goal we want to achieve"
   ]
  },
  {
   "cell_type": "code",
   "execution_count": 15,
   "metadata": {},
   "outputs": [],
   "source": [
    "problem.set_target(args.input_string)\n",
    "problem.initial_state = args.initial_state"
   ]
  },
  {
   "cell_type": "markdown",
   "metadata": {},
   "source": [
    "Run the solver"
   ]
  },
  {
   "cell_type": "code",
   "execution_count": 16,
   "metadata": {},
   "outputs": [],
   "source": [
    "output = ss.greedy(problem)"
   ]
  },
  {
   "cell_type": "markdown",
   "metadata": {},
   "source": [
    "Print the path to the solution:"
   ]
  },
  {
   "cell_type": "code",
   "execution_count": 17,
   "metadata": {},
   "outputs": [
    {
     "name": "stdout",
     "output_type": "stream",
     "text": [
      "\n",
      "Target string: Artifical Intelligence\n",
      "\n",
      "Path to the solution:\n",
      "(None, '')\n",
      "('A', 'A')\n",
      "('r', 'Ar')\n",
      "('t', 'Art')\n",
      "('i', 'Arti')\n",
      "('f', 'Artif')\n",
      "('i', 'Artifi')\n",
      "('c', 'Artific')\n",
      "('a', 'Artifica')\n",
      "('l', 'Artifical')\n",
      "(' ', 'Artifical ')\n",
      "('I', 'Artifical I')\n",
      "('n', 'Artifical In')\n",
      "('t', 'Artifical Int')\n",
      "('e', 'Artifical Inte')\n",
      "('l', 'Artifical Intel')\n",
      "('l', 'Artifical Intell')\n",
      "('i', 'Artifical Intelli')\n",
      "('g', 'Artifical Intellig')\n",
      "('e', 'Artifical Intellige')\n",
      "('n', 'Artifical Intelligen')\n",
      "('c', 'Artifical Intelligenc')\n",
      "('e', 'Artifical Intelligence')\n"
     ]
    }
   ],
   "source": [
    "print('\\nTarget string:', args.input_string)\n",
    "print('\\nPath to the solution:')\n",
    "for item in output.path():\n",
    "    print(item)"
   ]
  },
  {
   "cell_type": "markdown",
   "metadata": {},
   "source": [
    "## Solving a problem with constraints"
   ]
  },
  {
   "cell_type": "markdown",
   "metadata": {},
   "source": [
    "In this problem, we have a list of names and each name can only take a fixed set of values. We also have a set of constraints between these people that needs to be satisfied"
   ]
  },
  {
   "cell_type": "code",
   "execution_count": 20,
   "metadata": {},
   "outputs": [],
   "source": [
    "from simpleai.search import CspProblem, backtrack, min_conflicts, MOST_CONSTRAINED_VARIABLE, HIGHEST_DEGREE_VARIABLE, LEAST_CONSTRAINING_VALUE"
   ]
  },
  {
   "cell_type": "code",
   "execution_count": 21,
   "metadata": {},
   "outputs": [],
   "source": [
    "# Constraint that expects all the different variables to have different values\n",
    "def constraint_unique(variables, values):\n",
    "    #check if all the values are unique\n",
    "    return len(values) == len(set(values))"
   ]
  },
  {
   "cell_type": "code",
   "execution_count": 22,
   "metadata": {},
   "outputs": [],
   "source": [
    "# Constraint that specifies that one variable should be bigger than other\n",
    "def constraint_bigger(variables, values):\n",
    "    return values[0] > values[1]"
   ]
  },
  {
   "cell_type": "code",
   "execution_count": 23,
   "metadata": {},
   "outputs": [],
   "source": [
    "# Constraint that specifies that there should be one odd and one even variables in the two variables\n",
    "def constraint_odd_even(variables, values):\n",
    "    #If first variable is even, then second should be odd and vice versa\n",
    "    if values[0] % 2 == 0:\n",
    "        return values[1] % 2 == 1\n",
    "    else:\n",
    "        return values[1] % 2 == 0"
   ]
  },
  {
   "cell_type": "code",
   "execution_count": 24,
   "metadata": {},
   "outputs": [],
   "source": [
    "# Define the variables\n",
    "variables = ('John','Anna','Tom','Patricia')"
   ]
  },
  {
   "cell_type": "code",
   "execution_count": 25,
   "metadata": {},
   "outputs": [],
   "source": [
    "# Define the list of values that each variable can take\n",
    "domains = {\n",
    "    'John': [1,2,3],\n",
    "    'Anna': [1,3],\n",
    "    'Tom': [2,4],\n",
    "    'Patricia': [2,3,4],\n",
    "}"
   ]
  },
  {
   "cell_type": "markdown",
   "metadata": {},
   "source": [
    "Define the constraints for various scenarios. In this case, we specify three constraints as follows:\n",
    " - John, Anna, and Tom should have different values\n",
    " - Tom's value should be bigger than Anna's value\n",
    " - If John's value is odd, then Patricia's value should be even and vice versa"
   ]
  },
  {
   "cell_type": "code",
   "execution_count": 26,
   "metadata": {},
   "outputs": [],
   "source": [
    "constraints = [\n",
    "    (('John','Anna', 'Tom'), constraint_unique),\n",
    "    (('Tom','Anna'), constraint_bigger),\n",
    "    (('John', 'Patricia'), constraint_odd_even),\n",
    "]"
   ]
  },
  {
   "cell_type": "markdown",
   "metadata": {},
   "source": [
    "Using the preceding variables and the constraints to initialize the CspProblem object"
   ]
  },
  {
   "cell_type": "code",
   "execution_count": 27,
   "metadata": {},
   "outputs": [],
   "source": [
    "problem = CspProblem(variables, domains, constraints)"
   ]
  },
  {
   "cell_type": "markdown",
   "metadata": {},
   "source": [
    "Compute the solution and print it"
   ]
  },
  {
   "cell_type": "code",
   "execution_count": 28,
   "metadata": {},
   "outputs": [
    {
     "name": "stdout",
     "output_type": "stream",
     "text": [
      "\n",
      "Solutions:\n",
      "\n",
      "Normal\" {'John': 1, 'Anna': 3, 'Tom': 4, 'Patricia': 2}\n"
     ]
    }
   ],
   "source": [
    "print('\\nSolutions:\\n\\nNormal\"', backtrack(problem))"
   ]
  },
  {
   "cell_type": "markdown",
   "metadata": {},
   "source": [
    "Compute the solution using the MOST_CONSTRAINT_VARIABLE heuristic"
   ]
  },
  {
   "cell_type": "code",
   "execution_count": 29,
   "metadata": {},
   "outputs": [
    {
     "name": "stdout",
     "output_type": "stream",
     "text": [
      "\n",
      "Most constrained variable: {'Anna': 1, 'Tom': 2, 'John': 3, 'Patricia': 2}\n"
     ]
    }
   ],
   "source": [
    "print('\\nMost constrained variable:', backtrack(problem, variable_heuristic=MOST_CONSTRAINED_VARIABLE))"
   ]
  },
  {
   "cell_type": "markdown",
   "metadata": {},
   "source": [
    "Compute the solution using the HIGHEST_DEGREE_VARIABLE heuristic"
   ]
  },
  {
   "cell_type": "code",
   "execution_count": 30,
   "metadata": {},
   "outputs": [
    {
     "name": "stdout",
     "output_type": "stream",
     "text": [
      "\n",
      "Highest degree variable: {'John': 1, 'Anna': 3, 'Tom': 4, 'Patricia': 2}\n"
     ]
    }
   ],
   "source": [
    "print('\\nHighest degree variable:', backtrack(problem, variable_heuristic=HIGHEST_DEGREE_VARIABLE))"
   ]
  },
  {
   "cell_type": "code",
   "execution_count": 31,
   "metadata": {},
   "outputs": [
    {
     "name": "stdout",
     "output_type": "stream",
     "text": [
      "\n",
      "Least constraining value: {'John': 1, 'Anna': 3, 'Tom': 4, 'Patricia': 2}\n"
     ]
    }
   ],
   "source": [
    "print('\\nLeast constraining value:', backtrack(problem, \n",
    "            value_heuristic=LEAST_CONSTRAINING_VALUE))"
   ]
  },
  {
   "cell_type": "code",
   "execution_count": 32,
   "metadata": {},
   "outputs": [
    {
     "name": "stdout",
     "output_type": "stream",
     "text": [
      "\n",
      "Most constrained variable and least constraining value: {'Anna': 1, 'Tom': 2, 'John': 3, 'Patricia': 2}\n",
      "\n",
      "Highest degree and least constraining value: {'John': 1, 'Anna': 3, 'Tom': 4, 'Patricia': 2}\n",
      "\n",
      "Minimum conflicts: {'John': 3, 'Anna': 1, 'Tom': 4, 'Patricia': 4}\n"
     ]
    }
   ],
   "source": [
    "print('\\nMost constrained variable and least constraining value:', \n",
    "            backtrack(problem, variable_heuristic=MOST_CONSTRAINED_VARIABLE, \n",
    "            value_heuristic=LEAST_CONSTRAINING_VALUE))\n",
    "print('\\nHighest degree and least constraining value:', \n",
    "            backtrack(problem, variable_heuristic=HIGHEST_DEGREE_VARIABLE, \n",
    "            value_heuristic=LEAST_CONSTRAINING_VALUE))\n",
    "print('\\nMinimum conflicts:', min_conflicts(problem))\n"
   ]
  },
  {
   "cell_type": "markdown",
   "metadata": {},
   "source": [
    "## Solving the region-coloring problem"
   ]
  },
  {
   "cell_type": "markdown",
   "metadata": {},
   "source": [
    "Let's use the Constraint Satisfaction framework to solve the region-coloring problem."
   ]
  },
  {
   "cell_type": "code",
   "execution_count": null,
   "metadata": {},
   "outputs": [],
   "source": []
  }
 ],
 "metadata": {
  "kernelspec": {
   "display_name": "Python 3",
   "language": "python",
   "name": "python3"
  },
  "language_info": {
   "codemirror_mode": {
    "name": "ipython",
    "version": 3
   },
   "file_extension": ".py",
   "mimetype": "text/x-python",
   "name": "python",
   "nbconvert_exporter": "python",
   "pygments_lexer": "ipython3",
   "version": "3.6.5"
  }
 },
 "nbformat": 4,
 "nbformat_minor": 2
}
